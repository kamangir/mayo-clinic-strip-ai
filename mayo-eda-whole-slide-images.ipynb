{
 "cells": [
  {
   "cell_type": "markdown",
   "metadata": {},
   "source": [
    "# OpenSlide: How to open whole slide images\n",
    "\n",
    "based on https://www.kaggle.com/code/naotous/openslide-how-to-open-whole-slide-images"
   ]
  },
  {
   "cell_type": "code",
   "execution_count": 1,
   "metadata": {
    "_cell_guid": "b1076dfc-b9ad-4769-8c92-a6c4dae69d19",
    "_uuid": "8f2839f25d086af736a60e9eeb907d3b93b6e0e5",
    "execution": {
     "iopub.execute_input": "2022-07-12T15:40:01.386172Z",
     "iopub.status.busy": "2022-07-12T15:40:01.385730Z",
     "iopub.status.idle": "2022-07-12T15:40:01.392709Z",
     "shell.execute_reply": "2022-07-12T15:40:01.391327Z",
     "shell.execute_reply.started": "2022-07-12T15:40:01.386135Z"
    }
   },
   "outputs": [
    {
     "ename": "ModuleNotFoundError",
     "evalue": "No module named 'openslide'",
     "output_type": "error",
     "traceback": [
      "\u001b[0;31m---------------------------------------------------------------------------\u001b[0m",
      "\u001b[0;31mModuleNotFoundError\u001b[0m                       Traceback (most recent call last)",
      "Input \u001b[0;32mIn [1]\u001b[0m, in \u001b[0;36m<cell line: 4>\u001b[0;34m()\u001b[0m\n\u001b[1;32m      2\u001b[0m \u001b[38;5;28;01mimport\u001b[39;00m \u001b[38;5;21;01mpandas\u001b[39;00m \u001b[38;5;28;01mas\u001b[39;00m \u001b[38;5;21;01mpd\u001b[39;00m\n\u001b[1;32m      3\u001b[0m \u001b[38;5;28;01mfrom\u001b[39;00m \u001b[38;5;21;01mglob\u001b[39;00m \u001b[38;5;28;01mimport\u001b[39;00m glob\n\u001b[0;32m----> 4\u001b[0m \u001b[38;5;28;01mfrom\u001b[39;00m \u001b[38;5;21;01mopenslide\u001b[39;00m \u001b[38;5;28;01mimport\u001b[39;00m OpenSlide\n\u001b[1;32m      5\u001b[0m \u001b[38;5;28;01mfrom\u001b[39;00m \u001b[38;5;21;01mpprint\u001b[39;00m \u001b[38;5;28;01mimport\u001b[39;00m pprint\n\u001b[1;32m      6\u001b[0m \u001b[38;5;28;01mimport\u001b[39;00m \u001b[38;5;21;01mmatplotlib\u001b[39;00m\u001b[38;5;21;01m.\u001b[39;00m\u001b[38;5;21;01mpyplot\u001b[39;00m \u001b[38;5;28;01mas\u001b[39;00m \u001b[38;5;21;01mplt\u001b[39;00m\n",
      "\u001b[0;31mModuleNotFoundError\u001b[0m: No module named 'openslide'"
     ]
    }
   ],
   "source": [
    "import os\n",
    "import pandas as pd\n",
    "from glob import glob\n",
    "from openslide import OpenSlide\n",
    "from pprint import pprint\n",
    "import matplotlib.pyplot as plt"
   ]
  },
  {
   "cell_type": "code",
   "execution_count": 6,
   "metadata": {
    "execution": {
     "iopub.execute_input": "2022-07-12T15:40:01.396126Z",
     "iopub.status.busy": "2022-07-12T15:40:01.395153Z",
     "iopub.status.idle": "2022-07-12T15:40:01.417513Z",
     "shell.execute_reply": "2022-07-12T15:40:01.416011Z",
     "shell.execute_reply.started": "2022-07-12T15:40:01.396066Z"
    }
   },
   "outputs": [],
   "source": [
    "train_images = glob(\"/kaggle/input/mayo-clinic-strip-ai/train/*\")\n",
    "len(train_images)"
   ]
  },
  {
   "cell_type": "markdown",
   "metadata": {},
   "source": [
    "# Open whole slide images"
   ]
  },
  {
   "cell_type": "code",
   "execution_count": 7,
   "metadata": {
    "execution": {
     "iopub.execute_input": "2022-07-12T15:40:01.420382Z",
     "iopub.status.busy": "2022-07-12T15:40:01.419714Z",
     "iopub.status.idle": "2022-07-12T15:40:01.441360Z",
     "shell.execute_reply": "2022-07-12T15:40:01.440317Z",
     "shell.execute_reply.started": "2022-07-12T15:40:01.420338Z"
    }
   },
   "outputs": [],
   "source": [
    "img_path = train_images[2]\n",
    "\n",
    "print(img_path)\n",
    "slide = OpenSlide(img_path)\n",
    "\n",
    "print(slide.dimensions)\n",
    "print(slide.level_count)\n",
    "print(slide.level_dimensions)\n",
    "pprint(dict(slide.properties))\n",
    "print(f\"file size: {round(os.path.getsize(img_path) / 1024 ** 2, 2)} MB\")"
   ]
  },
  {
   "cell_type": "code",
   "execution_count": 8,
   "metadata": {
    "execution": {
     "iopub.execute_input": "2022-07-12T15:40:01.444496Z",
     "iopub.status.busy": "2022-07-12T15:40:01.442866Z",
     "iopub.status.idle": "2022-07-12T15:40:07.503065Z",
     "shell.execute_reply": "2022-07-12T15:40:07.501371Z",
     "shell.execute_reply.started": "2022-07-12T15:40:01.444444Z"
    }
   },
   "outputs": [],
   "source": [
    "region = (0, 0)\n",
    "level = 0\n",
    "size = (5000, 5000)\n",
    "region = slide.read_region(region, level, size)\n",
    "plt.figure(figsize=(20, 20))\n",
    "plt.imshow(region)"
   ]
  },
  {
   "cell_type": "code",
   "execution_count": 9,
   "metadata": {
    "execution": {
     "iopub.execute_input": "2022-07-12T15:40:07.506105Z",
     "iopub.status.busy": "2022-07-12T15:40:07.505746Z",
     "iopub.status.idle": "2022-07-12T15:40:07.511586Z",
     "shell.execute_reply": "2022-07-12T15:40:07.510381Z",
     "shell.execute_reply.started": "2022-07-12T15:40:07.506074Z"
    }
   },
   "outputs": [],
   "source": [
    "# scale = 1024 / max(slide.dimensions)\n",
    "# print(f\"scale: {scale}\")\n",
    "# print([int(m * scale) for m in slide.dimensions])\n",
    "\n",
    "# plt.imshow(slide.get_thumbnail([int(m * scale) for m in slide.dimensions]))\n",
    "#\n",
    "# Somehow this is very slow"
   ]
  },
  {
   "cell_type": "markdown",
   "metadata": {},
   "source": [
    "# Train labels"
   ]
  },
  {
   "cell_type": "code",
   "execution_count": 10,
   "metadata": {
    "execution": {
     "iopub.execute_input": "2022-07-12T15:40:07.513424Z",
     "iopub.status.busy": "2022-07-12T15:40:07.512981Z",
     "iopub.status.idle": "2022-07-12T15:40:07.559261Z",
     "shell.execute_reply": "2022-07-12T15:40:07.558198Z",
     "shell.execute_reply.started": "2022-07-12T15:40:07.513388Z"
    }
   },
   "outputs": [],
   "source": [
    "train_df = pd.read_csv(\"/kaggle/input/mayo-clinic-strip-ai/train.csv\")\n",
    "train_df"
   ]
  },
  {
   "cell_type": "code",
   "execution_count": 11,
   "metadata": {
    "execution": {
     "iopub.execute_input": "2022-07-12T15:40:07.560827Z",
     "iopub.status.busy": "2022-07-12T15:40:07.560525Z",
     "iopub.status.idle": "2022-07-12T15:40:07.570259Z",
     "shell.execute_reply": "2022-07-12T15:40:07.569050Z",
     "shell.execute_reply.started": "2022-07-12T15:40:07.560800Z"
    }
   },
   "outputs": [],
   "source": [
    "r = train_df.iloc[0]\n",
    "r"
   ]
  },
  {
   "cell_type": "code",
   "execution_count": 12,
   "metadata": {
    "execution": {
     "iopub.execute_input": "2022-07-12T15:40:07.573031Z",
     "iopub.status.busy": "2022-07-12T15:40:07.572537Z",
     "iopub.status.idle": "2022-07-12T15:40:07.625874Z",
     "shell.execute_reply": "2022-07-12T15:40:07.625017Z",
     "shell.execute_reply.started": "2022-07-12T15:40:07.572985Z"
    }
   },
   "outputs": [],
   "source": [
    "img_path = f\"/kaggle/input/mayo-clinic-strip-ai/train/{r.image_id}.tif\"\n",
    "print(img_path)\n",
    "slide = OpenSlide(img_path)\n",
    "\n",
    "print(slide.dimensions)\n",
    "print(slide.level_count)\n",
    "print(slide.level_dimensions)\n",
    "pprint(dict(slide.properties))\n",
    "print(f\"file size: {round(os.path.getsize(img_path) / 1024 ** 2, 2)} MB\")"
   ]
  },
  {
   "cell_type": "code",
   "execution_count": 13,
   "metadata": {
    "execution": {
     "iopub.execute_input": "2022-07-12T15:40:07.627873Z",
     "iopub.status.busy": "2022-07-12T15:40:07.627552Z",
     "iopub.status.idle": "2022-07-12T15:40:15.112465Z",
     "shell.execute_reply": "2022-07-12T15:40:15.111300Z",
     "shell.execute_reply.started": "2022-07-12T15:40:07.627843Z"
    }
   },
   "outputs": [],
   "source": [
    "region = (0, 0)\n",
    "level = 0\n",
    "size = (5000, 5000)\n",
    "region = slide.read_region(region, level, size)\n",
    "plt.figure(figsize=(20, 20))\n",
    "plt.imshow(region)"
   ]
  },
  {
   "cell_type": "code",
   "execution_count": null,
   "metadata": {},
   "outputs": [],
   "source": []
  }
 ],
 "metadata": {
  "kernelspec": {
   "display_name": "Python 3 (ipykernel)",
   "language": "python",
   "name": "python3"
  },
  "language_info": {
   "codemirror_mode": {
    "name": "ipython",
    "version": 3
   },
   "file_extension": ".py",
   "mimetype": "text/x-python",
   "name": "python",
   "nbconvert_exporter": "python",
   "pygments_lexer": "ipython3",
   "version": "3.9.12"
  }
 },
 "nbformat": 4,
 "nbformat_minor": 4
}
